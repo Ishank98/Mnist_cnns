{
  "nbformat": 4,
  "nbformat_minor": 0,
  "metadata": {
    "colab": {
      "name": "mnist_cnns.ipynb",
      "version": "0.3.2",
      "provenance": []
    },
    "kernelspec": {
      "name": "python3",
      "display_name": "Python 3"
    },
    "accelerator": "GPU"
  },
  "cells": [
    {
      "metadata": {
        "id": "ptmPF9ALLM1V",
        "colab_type": "code",
        "colab": {}
      },
      "cell_type": "code",
      "source": [
        "from google.colab import drive\n",
        "drive.mount('/content/gdrive')"
      ],
      "execution_count": 0,
      "outputs": []
    },
    {
      "metadata": {
        "id": "YgZiM81DKPNw",
        "colab_type": "code",
        "outputId": "d64ba1b0-ead9-464d-aeaa-c57588626efb",
        "colab": {
          "base_uri": "https://localhost:8080/",
          "height": 33
        }
      },
      "cell_type": "code",
      "source": [
        "cd .."
      ],
      "execution_count": 2,
      "outputs": [
        {
          "output_type": "stream",
          "text": [
            "/\n"
          ],
          "name": "stdout"
        }
      ]
    },
    {
      "metadata": {
        "id": "KiyZhnIoM8gz",
        "colab_type": "code",
        "outputId": "5ca9e23e-0551-4d69-a7b8-f26c120a8c9e",
        "colab": {
          "base_uri": "https://localhost:8080/",
          "height": 33
        }
      },
      "cell_type": "code",
      "source": [
        "cd content/gdrive/My Drive/Tensorflow"
      ],
      "execution_count": 3,
      "outputs": [
        {
          "output_type": "stream",
          "text": [
            "/content/gdrive/My Drive/Tensorflow\n"
          ],
          "name": "stdout"
        }
      ]
    },
    {
      "metadata": {
        "id": "rjCPhIIvQrTd",
        "colab_type": "code",
        "outputId": "bd6dca4b-5c6f-4358-c8f1-0f920f3be3d9",
        "colab": {
          "base_uri": "https://localhost:8080/",
          "height": 33
        }
      },
      "cell_type": "code",
      "source": [
        "cd mnist"
      ],
      "execution_count": 4,
      "outputs": [
        {
          "output_type": "stream",
          "text": [
            "/content/gdrive/My Drive/Tensorflow/mnist\n"
          ],
          "name": "stdout"
        }
      ]
    },
    {
      "metadata": {
        "id": "24njCzCJMBRp",
        "colab_type": "code",
        "colab": {}
      },
      "cell_type": "code",
      "source": [
        "import tensorflow as tf"
      ],
      "execution_count": 0,
      "outputs": []
    },
    {
      "metadata": {
        "id": "bULVN2d2MS-a",
        "colab_type": "code",
        "colab": {}
      },
      "cell_type": "code",
      "source": [
        "from tensorflow.examples.tutorials.mnist import input_data"
      ],
      "execution_count": 0,
      "outputs": []
    },
    {
      "metadata": {
        "id": "DYKjiZgnOKjk",
        "colab_type": "code",
        "colab": {}
      },
      "cell_type": "code",
      "source": [
        "mnist=input_data.read_data_sets(\"MNIST\",one_hot=True)"
      ],
      "execution_count": 0,
      "outputs": []
    },
    {
      "metadata": {
        "id": "ATVoEnvEzmqN",
        "colab_type": "code",
        "colab": {
          "base_uri": "https://localhost:8080/",
          "height": 281
        },
        "outputId": "6c8273d9-6f95-4aa0-d55b-97f569aae835"
      },
      "cell_type": "code",
      "source": [
        "import matplotlib.pyplot as plt\n",
        "%matplotlib inline\n",
        "single_image=mnist.train.images[1].reshape(28,28)\n",
        "plt.imshow(single_image,cmap='gist_gray')"
      ],
      "execution_count": 8,
      "outputs": [
        {
          "output_type": "execute_result",
          "data": {
            "text/plain": [
              "<matplotlib.image.AxesImage at 0x7f763476b2b0>"
            ]
          },
          "metadata": {
            "tags": []
          },
          "execution_count": 8
        },
        {
          "output_type": "display_data",
          "data": {
            "image/png": "[encoded data removed]",
            "text/plain": [
              "<Figure size 432x288 with 1 Axes>"
            ]
          },
          "metadata": {
            "tags": []
          }
        }
      ]
    },
    {
      "metadata": {
        "id": "1fiTQVdqQzC-",
        "colab_type": "code",
        "colab": {}
      },
      "cell_type": "code",
      "source": [
        "def init_weights(shape):\n",
        "  init_random_dist = tf.truncated_normal(shape,stddev=0.1)\n",
        "  return tf.Variable(init_random_dist)"
      ],
      "execution_count": 0,
      "outputs": []
    },
    {
      "metadata": {
        "id": "DIlNl_SyRTXG",
        "colab_type": "code",
        "colab": {}
      },
      "cell_type": "code",
      "source": [
        "def init_bias(shape):\n",
        "  init_bias_vals=tf.constant(0.1,shape=shape)\n",
        "  return tf.Variable(init_bias_vals)"
      ],
      "execution_count": 0,
      "outputs": []
    },
    {
      "metadata": {
        "id": "AoF55bffRlXZ",
        "colab_type": "code",
        "colab": {}
      },
      "cell_type": "code",
      "source": [
        "def conv2d(x,W):\n",
        "  #x --> [batch,H,W,Channels]\n",
        "  #W --> [filters H,filters W, Channels In , Channels OUT]\n",
        "  return tf.nn.conv2d(x,W,strides=[1,1,1,1],padding='SAME')"
      ],
      "execution_count": 0,
      "outputs": []
    },
    {
      "metadata": {
        "id": "spdReNZYSqAI",
        "colab_type": "code",
        "colab": {}
      },
      "cell_type": "code",
      "source": [
        "def max_pool_2by2(x):\n",
        "  return tf.nn.max_pool(x,ksize=[1,2,2,1],strides=[1,2,2,1],padding='SAME')"
      ],
      "execution_count": 0,
      "outputs": []
    },
    {
      "metadata": {
        "id": "XFCH1c78TUUZ",
        "colab_type": "code",
        "colab": {}
      },
      "cell_type": "code",
      "source": [
        "#convolutional layer\n",
        "def convolutional_layer(input_x,shape):\n",
        "  W= init_weights(shape)\n",
        "  b = init_bias([shape[3]])\n",
        "  return tf.nn.relu(conv2d(input_x,W)+b)"
      ],
      "execution_count": 0,
      "outputs": []
    },
    {
      "metadata": {
        "id": "6G7uD5xILDs1",
        "colab_type": "code",
        "colab": {}
      },
      "cell_type": "code",
      "source": [
        "#normal(fully connected layer)\n",
        "def normal_full_layer(input_layer,size):\n",
        "  input_size = int(input_layer.get_shape()[1])\n",
        "  W=init_weights([input_size,size])\n",
        "  b=init_bias([size])\n",
        "  return tf.matmul(input_layer,W)+b"
      ],
      "execution_count": 0,
      "outputs": []
    },
    {
      "metadata": {
        "id": "Wpe2VMt_LtM6",
        "colab_type": "code",
        "colab": {}
      },
      "cell_type": "code",
      "source": [
        "#placeholders\n",
        "x=tf.placeholder(tf.float32,shape=[None,784])"
      ],
      "execution_count": 0,
      "outputs": []
    },
    {
      "metadata": {
        "id": "5xjfB5I-L8cY",
        "colab_type": "code",
        "colab": {}
      },
      "cell_type": "code",
      "source": [
        "y_true=tf.placeholder(tf.float32,shape=[None,10])\n"
      ],
      "execution_count": 0,
      "outputs": []
    },
    {
      "metadata": {
        "id": "mp5BZaYmMO5_",
        "colab_type": "code",
        "colab": {}
      },
      "cell_type": "code",
      "source": [
        "#layers\n",
        "x_image=tf.reshape(x,[-1,28,28,1])"
      ],
      "execution_count": 0,
      "outputs": []
    },
    {
      "metadata": {
        "id": "lmZ92qrMMXKz",
        "colab_type": "code",
        "colab": {
          "base_uri": "https://localhost:8080/",
          "height": 87
        },
        "outputId": "22f1a976-219b-4a3c-d843-d0ceb4ff1c8f"
      },
      "cell_type": "code",
      "source": [
        "convo_1=convolutional_layer(x_image,shape=[5,5,1,64])\n",
        "convo_1_pooling=max_pool_2by2(convo_1)"
      ],
      "execution_count": 18,
      "outputs": [
        {
          "output_type": "stream",
          "text": [
            "WARNING:tensorflow:From /usr/local/lib/python3.6/dist-packages/tensorflow/python/framework/op_def_library.py:263: colocate_with (from tensorflow.python.framework.ops) is deprecated and will be removed in a future version.\n",
            "Instructions for updating:\n",
            "Colocations handled automatically by placer.\n"
          ],
          "name": "stdout"
        }
      ]
    },
    {
      "metadata": {
        "id": "p1EeOLvfMqNI",
        "colab_type": "code",
        "colab": {}
      },
      "cell_type": "code",
      "source": [
        "convo_2=convolutional_layer(convo_1_pooling,shape=[5,5,64,128])"
      ],
      "execution_count": 0,
      "outputs": []
    },
    {
      "metadata": {
        "id": "HVfBEsV6NG_E",
        "colab_type": "code",
        "colab": {}
      },
      "cell_type": "code",
      "source": [
        "convo_2_pooling=max_pool_2by2(convo_2)"
      ],
      "execution_count": 0,
      "outputs": []
    },
    {
      "metadata": {
        "id": "_vyJDaFNNMH4",
        "colab_type": "code",
        "colab": {}
      },
      "cell_type": "code",
      "source": [
        "convo_2_flat=tf.reshape(convo_2_pooling,[-1,7*7*128])\n",
        "full_layer_one=tf.nn.relu(normal_full_layer(convo_2_flat,1024))"
      ],
      "execution_count": 0,
      "outputs": []
    },
    {
      "metadata": {
        "id": "9E4ocRUYNoPf",
        "colab_type": "code",
        "colab": {
          "base_uri": "https://localhost:8080/",
          "height": 87
        },
        "outputId": "7845ad03-42a4-43b7-e5d2-e50a183ccdd7"
      },
      "cell_type": "code",
      "source": [
        "#dropout\n",
        "hold_prob=tf.placeholder(tf.float32)\n",
        "full_one_dropout=tf.nn.dropout(full_layer_one,keep_prob=hold_prob)"
      ],
      "execution_count": 22,
      "outputs": [
        {
          "output_type": "stream",
          "text": [
            "WARNING:tensorflow:From <ipython-input-22-e4433768ed0e>:2: calling dropout (from tensorflow.python.ops.nn_ops) with keep_prob is deprecated and will be removed in a future version.\n",
            "Instructions for updating:\n",
            "Please use `rate` instead of `keep_prob`. Rate should be set to `rate = 1 - keep_prob`.\n"
          ],
          "name": "stdout"
        }
      ]
    },
    {
      "metadata": {
        "id": "qoJG89p6OHG-",
        "colab_type": "code",
        "colab": {}
      },
      "cell_type": "code",
      "source": [
        "y_pred=normal_full_layer(full_one_dropout,10)"
      ],
      "execution_count": 0,
      "outputs": []
    },
    {
      "metadata": {
        "id": "81IMVnT2OSlg",
        "colab_type": "code",
        "colab": {}
      },
      "cell_type": "code",
      "source": [
        "#loss function\n",
        "cross_entropy = tf.reduce_mean(tf.nn.softmax_cross_entropy_with_logits(labels=y_true,logits=y_pred))"
      ],
      "execution_count": 0,
      "outputs": []
    },
    {
      "metadata": {
        "id": "YGpxEAYMPdiK",
        "colab_type": "code",
        "colab": {}
      },
      "cell_type": "code",
      "source": [
        "#Optmizer\n",
        "optimizer= tf.train.AdamOptimizer(learning_rate=0.001)\n",
        "train=optimizer.minimize(cross_entropy)\n"
      ],
      "execution_count": 0,
      "outputs": []
    },
    {
      "metadata": {
        "id": "c7HJkIDQP3JS",
        "colab_type": "code",
        "colab": {}
      },
      "cell_type": "code",
      "source": [
        "init=tf.global_variables_initializer()\n"
      ],
      "execution_count": 0,
      "outputs": []
    },
    {
      "metadata": {
        "id": "xeqxz26DP8g-",
        "colab_type": "code",
        "outputId": "6fee64a7-f02e-462e-827f-bc3ea3a09287",
        "colab": {
          "base_uri": "https://localhost:8080/",
          "height": 4198
        }
      },
      "cell_type": "code",
      "source": [
        "steps=5000\n",
        "\n",
        "with tf.Session() as sess:\n",
        "  sess.run(init)\n",
        "  \n",
        "  for i in range(steps):\n",
        "    batch_x,batch_y=mnist.train.next_batch(50)\n",
        "    sess.run(train,feed_dict={x:batch_x,y_true:batch_y,hold_prob:0.5})\n",
        "    if i%100==0:\n",
        "      print('ON STEP:{}'.format(i))\n",
        "      print('ACCUracy:')\n",
        "      matches=tf.equal(tf.argmax(y_pred,1),tf.argmax(y_true,1))\n",
        "      acc=tf.reduce_mean(tf.cast(matches,tf.float32))\n",
        "      print(sess.run(acc,feed_dict={x:mnist.test.images,y_true:mnist.test.labels,hold_prob:1.0}))\n",
        "      print('\\n')"
      ],
      "execution_count": 27,
      "outputs": [
        {
          "output_type": "stream",
          "text": [
            "ON STEP:0\n",
            "ACCUracy:\n",
            "0.1012\n",
            "\n",
            "\n",
            "ON STEP:100\n",
            "ACCUracy:\n",
            "0.9398\n",
            "\n",
            "\n",
            "ON STEP:200\n",
            "ACCUracy:\n",
            "0.9624\n",
            "\n",
            "\n",
            "ON STEP:300\n",
            "ACCUracy:\n",
            "0.9661\n",
            "\n",
            "\n",
            "ON STEP:400\n",
            "ACCUracy:\n",
            "0.9666\n",
            "\n",
            "\n",
            "ON STEP:500\n",
            "ACCUracy:\n",
            "0.9745\n",
            "\n",
            "\n",
            "ON STEP:600\n",
            "ACCUracy:\n",
            "0.9767\n",
            "\n",
            "\n",
            "ON STEP:700\n",
            "ACCUracy:\n",
            "0.9798\n",
            "\n",
            "\n",
            "ON STEP:800\n",
            "ACCUracy:\n",
            "0.9807\n",
            "\n",
            "\n",
            "ON STEP:900\n",
            "ACCUracy:\n",
            "0.9788\n",
            "\n",
            "\n",
            "ON STEP:1000\n",
            "ACCUracy:\n",
            "0.9811\n",
            "\n",
            "\n",
            "ON STEP:1100\n",
            "ACCUracy:\n",
            "0.9819\n",
            "\n",
            "\n",
            "ON STEP:1200\n",
            "ACCUracy:\n",
            "0.9876\n",
            "\n",
            "\n",
            "ON STEP:1300\n",
            "ACCUracy:\n",
            "0.9862\n",
            "\n",
            "\n",
            "ON STEP:1400\n",
            "ACCUracy:\n",
            "0.9882\n",
            "\n",
            "\n",
            "ON STEP:1500\n",
            "ACCUracy:\n",
            "0.987\n",
            "\n",
            "\n",
            "ON STEP:1600\n",
            "ACCUracy:\n",
            "0.985\n",
            "\n",
            "\n",
            "ON STEP:1700\n",
            "ACCUracy:\n",
            "0.9841\n",
            "\n",
            "\n",
            "ON STEP:1800\n",
            "ACCUracy:\n",
            "0.9867\n",
            "\n",
            "\n",
            "ON STEP:1900\n",
            "ACCUracy:\n",
            "0.9866\n",
            "\n",
            "\n",
            "ON STEP:2000\n",
            "ACCUracy:\n",
            "0.9872\n",
            "\n",
            "\n",
            "ON STEP:2100\n",
            "ACCUracy:\n",
            "0.988\n",
            "\n",
            "\n",
            "ON STEP:2200\n",
            "ACCUracy:\n",
            "0.9877\n",
            "\n",
            "\n",
            "ON STEP:2300\n",
            "ACCUracy:\n",
            "0.9876\n",
            "\n",
            "\n",
            "ON STEP:2400\n",
            "ACCUracy:\n",
            "0.9886\n",
            "\n",
            "\n",
            "ON STEP:2500\n",
            "ACCUracy:\n",
            "0.9896\n",
            "\n",
            "\n",
            "ON STEP:2600\n",
            "ACCUracy:\n",
            "0.987\n",
            "\n",
            "\n",
            "ON STEP:2700\n",
            "ACCUracy:\n",
            "0.9865\n",
            "\n",
            "\n",
            "ON STEP:2800\n",
            "ACCUracy:\n",
            "0.9856\n",
            "\n",
            "\n",
            "ON STEP:2900\n",
            "ACCUracy:\n",
            "0.9888\n",
            "\n",
            "\n",
            "ON STEP:3000\n",
            "ACCUracy:\n",
            "0.9904\n",
            "\n",
            "\n",
            "ON STEP:3100\n",
            "ACCUracy:\n",
            "0.9906\n",
            "\n",
            "\n",
            "ON STEP:3200\n",
            "ACCUracy:\n",
            "0.9884\n",
            "\n",
            "\n",
            "ON STEP:3300\n",
            "ACCUracy:\n",
            "0.9864\n",
            "\n",
            "\n",
            "ON STEP:3400\n",
            "ACCUracy:\n",
            "0.9901\n",
            "\n",
            "\n",
            "ON STEP:3500\n",
            "ACCUracy:\n",
            "0.9887\n",
            "\n",
            "\n",
            "ON STEP:3600\n",
            "ACCUracy:\n",
            "0.9881\n",
            "\n",
            "\n",
            "ON STEP:3700\n",
            "ACCUracy:\n",
            "0.9892\n",
            "\n",
            "\n",
            "ON STEP:3800\n",
            "ACCUracy:\n",
            "0.9876\n",
            "\n",
            "\n",
            "ON STEP:3900\n",
            "ACCUracy:\n",
            "0.9897\n",
            "\n",
            "\n",
            "ON STEP:4000\n",
            "ACCUracy:\n",
            "0.9894\n",
            "\n",
            "\n",
            "ON STEP:4100\n",
            "ACCUracy:\n",
            "0.989\n",
            "\n",
            "\n",
            "ON STEP:4200\n",
            "ACCUracy:\n",
            "0.9893\n",
            "\n",
            "\n",
            "ON STEP:4300\n",
            "ACCUracy:\n",
            "0.9891\n",
            "\n",
            "\n",
            "ON STEP:4400\n",
            "ACCUracy:\n",
            "0.9909\n",
            "\n",
            "\n",
            "ON STEP:4500\n",
            "ACCUracy:\n",
            "0.9908\n",
            "\n",
            "\n",
            "ON STEP:4600\n",
            "ACCUracy:\n",
            "0.9898\n",
            "\n",
            "\n",
            "ON STEP:4700\n",
            "ACCUracy:\n",
            "0.9912\n",
            "\n",
            "\n",
            "ON STEP:4800\n",
            "ACCUracy:\n",
            "0.9914\n",
            "\n",
            "\n",
            "ON STEP:4900\n",
            "ACCUracy:\n",
            "0.9914\n",
            "\n",
            "\n"
          ],
          "name": "stdout"
        }
      ]
    },
    {
      "metadata": {
        "id": "H_eTSdqhP9_o",
        "colab_type": "code",
        "colab": {}
      },
      "cell_type": "code",
      "source": [
        ""
      ],
      "execution_count": 0,
      "outputs": []
    }
  ]
}